{
 "cells": [
  {
   "cell_type": "code",
   "execution_count": 1,
   "id": "93ddda06",
   "metadata": {},
   "outputs": [
    {
     "data": {
      "text/plain": [
       "'/Users/mm/Desktop/klienProgram/c_dee_v2'"
      ]
     },
     "execution_count": 1,
     "metadata": {},
     "output_type": "execute_result"
    }
   ],
   "source": [
    "pwd"
   ]
  },
  {
   "cell_type": "markdown",
   "id": "5cfef8c8",
   "metadata": {},
   "source": [
    "# Tiktok"
   ]
  },
  {
   "cell_type": "code",
   "execution_count": 21,
   "id": "84d863b6",
   "metadata": {},
   "outputs": [
    {
     "name": "stderr",
     "output_type": "stream",
     "text": [
      "/var/folders/xg/nsr28y797rj6ylbvy7_jyvrw0000gn/T/ipykernel_1585/1634198853.py:10: SettingWithCopyWarning: \n",
      "A value is trying to be set on a copy of a slice from a DataFrame.\n",
      "Try using .loc[row_indexer,col_indexer] = value instead\n",
      "\n",
      "See the caveats in the documentation: https://pandas.pydata.org/pandas-docs/stable/user_guide/indexing.html#returning-a-view-versus-a-copy\n",
      "  df_filtered['Date'] = pd.to_datetime(df_filtered['Date']).dt.strftime('%Y-%m-%d')\n"
     ]
    }
   ],
   "source": [
    "import pandas as pd\n",
    "\n",
    "# Baca file Excel\n",
    "df = pd.read_excel('hasil_prediksi_gabungan/02_instagram.xlsx', engine='openpyxl')\n",
    "\n",
    "# Filter hanya baris dengan Prediksi == 0 (angka atau string, sesuaikan)\n",
    "df_filtered = df[df['Prediksi'] == 2]  # atau '0' jika berupa string\n",
    "\n",
    "# Format kolom 'Date' sebagai YYYY-MM-DD\n",
    "df_filtered['Date'] = pd.to_datetime(df_filtered['Date']).dt.strftime('%Y-%m-%d')\n",
    "\n",
    "# Simpan ke file Excel baru\n",
    "df_filtered.to_excel('instagram_hasil_filtered.xlsx', index=False)\n",
    "\n",
    "df = pd.read_excel(\"instagram_hasil_filtered.xlsx\")\n",
    "df_unique = df.drop_duplicates()\n",
    "df_unique.to_excel(\"instagram_hasil_filtered_unique.xlsx\", index=False)"
   ]
  },
  {
   "cell_type": "markdown",
   "id": "3a0b7b8e",
   "metadata": {},
   "source": [
    "# Remove duplikat dataset"
   ]
  },
  {
   "cell_type": "code",
   "execution_count": 24,
   "id": "42b8fb01",
   "metadata": {},
   "outputs": [
    {
     "name": "stdout",
     "output_type": "stream",
     "text": [
      "Jumlah data pada kolom 'Bobot' SEBELUM menghapus duplikat:\n",
      "Nilai 0: 625\n",
      "Nilai 1: 674\n",
      "Nilai 2: 506\n",
      "\n",
      "Jumlah data pada kolom 'Bobot' SESUDAH menghapus duplikat:\n",
      "Nilai 0: 453\n",
      "Nilai 1: 431\n",
      "Nilai 2: 442\n"
     ]
    }
   ],
   "source": [
    "import pandas as pd\n",
    "\n",
    "file_path = 'dataset/gabungan_20250522.xlsx'\n",
    "df = pd.read_excel(file_path)\n",
    "\n",
    "# Hitung jumlah data untuk setiap nilai pada kolom \"Bobot\" sebelum remove duplikat\n",
    "prediksi_counts_sebelum = df['Bobot'].value_counts().sort_index()\n",
    "\n",
    "# Tambahkan kolom bantu untuk menyamakan huruf besar-kecil\n",
    "df['Comment_lower'] = df['Comment'].str.lower()\n",
    "\n",
    "# Hapus duplikat berdasarkan Comment (tanpa membedakan huruf besar/kecil)\n",
    "df_unique = df.drop_duplicates(subset='Comment_lower').drop(columns='Comment_lower')\n",
    "\n",
    "# Hitung jumlah data untuk setiap nilai pada kolom \"Bobot\" setelah remove duplikat\n",
    "prediksi_counts_sesudah = df_unique['Bobot'].value_counts().sort_index()\n",
    "\n",
    "# Tampilkan hasil\n",
    "print(\"Jumlah data pada kolom 'Bobot' SEBELUM menghapus duplikat:\")\n",
    "for nilai in [0, 1, 2]:\n",
    "    print(f\"Nilai {nilai}: {prediksi_counts_sebelum.get(nilai, 0)}\")\n",
    "\n",
    "print(\"\\nJumlah data pada kolom 'Bobot' SESUDAH menghapus duplikat:\")\n",
    "for nilai in [0, 1, 2]:\n",
    "    print(f\"Nilai {nilai}: {prediksi_counts_sesudah.get(nilai, 0)}\")\n",
    "\n",
    "# Simpan hasil ke file baru (opsional)\n",
    "df_unique.to_excel('dataset/gabungan_20250522_unique.xlsx', index=False)\n"
   ]
  },
  {
   "cell_type": "markdown",
   "id": "3888196f",
   "metadata": {},
   "source": [
    "# Melihat seluruh data predit 1 februari - 31 maret"
   ]
  },
  {
   "cell_type": "code",
   "execution_count": 32,
   "id": "6b360e20",
   "metadata": {},
   "outputs": [
    {
     "name": "stdout",
     "output_type": "stream",
     "text": [
      "Jumlah file Excel: 46\n",
      "Total jumlah data dari semua file: 1137\n",
      "Jumlah baris dengan kolom 'Comment' kosong: 101\n",
      "Jumlah baris setelah dibersihkan: 1036\n"
     ]
    }
   ],
   "source": [
    "import os\n",
    "import pandas as pd\n",
    "\n",
    "# Path ke folder input dan output\n",
    "folder_path = 'prediksi/01_twetter'\n",
    "output_folder = 'prediksi_clean/01_twetter'\n",
    "\n",
    "# Buat folder output jika belum ada\n",
    "os.makedirs(output_folder, exist_ok=True)\n",
    "\n",
    "# Inisialisasi penghitung\n",
    "total_rows = 0\n",
    "empty_comments = 0\n",
    "cleaned_rows = 0\n",
    "excel_file_count = 0\n",
    "\n",
    "# Iterasi semua file dalam folder\n",
    "for filename in os.listdir(folder_path):\n",
    "    if filename.endswith('.xlsx') or filename.endswith('.xls'):\n",
    "        excel_file_count += 1\n",
    "        file_path = os.path.join(folder_path, filename)\n",
    "        try:\n",
    "            df = pd.read_excel(file_path)\n",
    "            total_rows += len(df)\n",
    "\n",
    "            if \"Comment\" in df.columns:\n",
    "                # Hitung dan hapus baris dengan kolom \"Comment\" kosong\n",
    "                empty_count = df[\"Comment\"].apply(lambda x: pd.isna(x) or str(x).strip() == '').sum()\n",
    "                empty_comments += empty_count\n",
    "                df_cleaned = df[~df[\"Comment\"].apply(lambda x: pd.isna(x) or str(x).strip() == '')]\n",
    "                cleaned_rows += len(df_cleaned)\n",
    "\n",
    "                # Simpan file yang sudah dibersihkan\n",
    "                cleaned_path = os.path.join(output_folder, filename)\n",
    "                df_cleaned.to_excel(cleaned_path, index=False)\n",
    "            else:\n",
    "                print(f'Kolom \"Comment\" tidak ditemukan di file {filename}')\n",
    "        except Exception as e:\n",
    "            print(f\"Gagal membaca {filename}: {e}\")\n",
    "\n",
    "# Tampilkan hasil\n",
    "print(f\"Jumlah file Excel: {excel_file_count}\")\n",
    "print(f\"Total jumlah data dari semua file: {total_rows}\")\n",
    "print(f\"Jumlah baris dengan kolom 'Comment' kosong: {empty_comments}\")\n",
    "print(f\"Jumlah baris setelah dibersihkan: {cleaned_rows}\")\n"
   ]
  },
  {
   "cell_type": "code",
   "execution_count": 33,
   "id": "48952c74",
   "metadata": {},
   "outputs": [
    {
     "name": "stdout",
     "output_type": "stream",
     "text": [
      "Jumlah file Excel: 61\n",
      "Total jumlah data dari semua file: 14608\n",
      "Jumlah baris dengan kolom 'Comment' kosong: 0\n",
      "Jumlah baris setelah dibersihkan: 14608\n"
     ]
    }
   ],
   "source": [
    "import os\n",
    "import pandas as pd\n",
    "\n",
    "# Path ke folder input dan output\n",
    "folder_path = 'prediksi/02_instagram'\n",
    "output_folder = 'prediksi_clean/02_instagram'\n",
    "\n",
    "# Buat folder output jika belum ada\n",
    "os.makedirs(output_folder, exist_ok=True)\n",
    "\n",
    "# Inisialisasi penghitung\n",
    "total_rows = 0\n",
    "empty_comments = 0\n",
    "cleaned_rows = 0\n",
    "excel_file_count = 0\n",
    "\n",
    "# Iterasi semua file dalam folder\n",
    "for filename in os.listdir(folder_path):\n",
    "    if filename.endswith('.xlsx') or filename.endswith('.xls'):\n",
    "        excel_file_count += 1\n",
    "        file_path = os.path.join(folder_path, filename)\n",
    "        try:\n",
    "            df = pd.read_excel(file_path)\n",
    "            total_rows += len(df)\n",
    "\n",
    "            if \"Comment\" in df.columns:\n",
    "                # Hitung dan hapus baris dengan kolom \"Comment\" kosong\n",
    "                empty_count = df[\"Comment\"].apply(lambda x: pd.isna(x) or str(x).strip() == '').sum()\n",
    "                empty_comments += empty_count\n",
    "                df_cleaned = df[~df[\"Comment\"].apply(lambda x: pd.isna(x) or str(x).strip() == '')]\n",
    "                cleaned_rows += len(df_cleaned)\n",
    "\n",
    "                # Simpan file yang sudah dibersihkan\n",
    "                cleaned_path = os.path.join(output_folder, filename)\n",
    "                df_cleaned.to_excel(cleaned_path, index=False)\n",
    "            else:\n",
    "                print(f'Kolom \"Comment\" tidak ditemukan di file {filename}')\n",
    "        except Exception as e:\n",
    "            print(f\"Gagal membaca {filename}: {e}\")\n",
    "\n",
    "# Tampilkan hasil\n",
    "print(f\"Jumlah file Excel: {excel_file_count}\")\n",
    "print(f\"Total jumlah data dari semua file: {total_rows}\")\n",
    "print(f\"Jumlah baris dengan kolom 'Comment' kosong: {empty_comments}\")\n",
    "print(f\"Jumlah baris setelah dibersihkan: {cleaned_rows}\")\n"
   ]
  },
  {
   "cell_type": "code",
   "execution_count": 34,
   "id": "b816a9ce",
   "metadata": {},
   "outputs": [
    {
     "name": "stdout",
     "output_type": "stream",
     "text": [
      "Jumlah file Excel: 32\n",
      "Total jumlah data dari semua file: 6470\n",
      "Jumlah baris dengan kolom 'Comment' kosong: 0\n",
      "Jumlah baris setelah dibersihkan: 6470\n"
     ]
    }
   ],
   "source": [
    "import os\n",
    "import pandas as pd\n",
    "\n",
    "# Path ke folder input dan output\n",
    "folder_path = 'prediksi/03_tiktok'\n",
    "output_folder = 'prediksi_clean/03_tiktok'\n",
    "\n",
    "# Buat folder output jika belum ada\n",
    "os.makedirs(output_folder, exist_ok=True)\n",
    "\n",
    "# Inisialisasi penghitung\n",
    "total_rows = 0\n",
    "empty_comments = 0\n",
    "cleaned_rows = 0\n",
    "excel_file_count = 0\n",
    "\n",
    "# Iterasi semua file dalam folder\n",
    "for filename in os.listdir(folder_path):\n",
    "    if filename.endswith('.xlsx') or filename.endswith('.xls'):\n",
    "        excel_file_count += 1\n",
    "        file_path = os.path.join(folder_path, filename)\n",
    "        try:\n",
    "            df = pd.read_excel(file_path)\n",
    "            total_rows += len(df)\n",
    "\n",
    "            if \"Comment\" in df.columns:\n",
    "                # Hitung dan hapus baris dengan kolom \"Comment\" kosong\n",
    "                empty_count = df[\"Comment\"].apply(lambda x: pd.isna(x) or str(x).strip() == '').sum()\n",
    "                empty_comments += empty_count\n",
    "                df_cleaned = df[~df[\"Comment\"].apply(lambda x: pd.isna(x) or str(x).strip() == '')]\n",
    "                cleaned_rows += len(df_cleaned)\n",
    "\n",
    "                # Simpan file yang sudah dibersihkan\n",
    "                cleaned_path = os.path.join(output_folder, filename)\n",
    "                df_cleaned.to_excel(cleaned_path, index=False)\n",
    "            else:\n",
    "                print(f'Kolom \"Comment\" tidak ditemukan di file {filename}')\n",
    "        except Exception as e:\n",
    "            print(f\"Gagal membaca {filename}: {e}\")\n",
    "\n",
    "# Tampilkan hasil\n",
    "print(f\"Jumlah file Excel: {excel_file_count}\")\n",
    "print(f\"Total jumlah data dari semua file: {total_rows}\")\n",
    "print(f\"Jumlah baris dengan kolom 'Comment' kosong: {empty_comments}\")\n",
    "print(f\"Jumlah baris setelah dibersihkan: {cleaned_rows}\")\n"
   ]
  }
 ],
 "metadata": {
  "kernelspec": {
   "display_name": "Python 3",
   "language": "python",
   "name": "python3"
  },
  "language_info": {
   "codemirror_mode": {
    "name": "ipython",
    "version": 3
   },
   "file_extension": ".py",
   "mimetype": "text/x-python",
   "name": "python",
   "nbconvert_exporter": "python",
   "pygments_lexer": "ipython3",
   "version": "3.12.10"
  }
 },
 "nbformat": 4,
 "nbformat_minor": 5
}
